{
 "cells": [
  {
   "cell_type": "markdown",
   "metadata": {
    "slideshow": {
     "slide_type": "slide"
    }
   },
   "source": [
    "# Neural Network Under the Hood\n",
    "\n",
    "Handwritten digit recognition is a good first-lesson on image recognition for beginners.\n",
    "<br />  \n",
    "The MNIST dataset consists 60000 training examples and 10000 test examples, of digits 0-9, can be downloaded from [Yann Lecun's website](http://yann.lecun.com/exdb/mnist/).\n",
    "<br />  \n",
    "In this project we will:\n",
    "\n",
    "- Implement a 2-layer neural network.\n",
    "- Compute the forward pass and backward pass with softmax loss.\n",
    "- Use the normlizaiton to help network converge.\n",
    "- Use a stochastic gradient descent to optimize the loss function."
   ]
  },
  {
   "cell_type": "markdown",
   "metadata": {},
   "source": [
    "# Fully connected layer design\n",
    "\n",
    "In this section, we define functions that are used to calculate forward propagationa and backward propagation in fully connected layer. Complete following unfinished functions."
   ]
  },
  {
   "cell_type": "code",
   "execution_count": 1,
   "metadata": {},
   "outputs": [],
   "source": [
    "import numpy as np\n",
    "\n",
    "def affine_forward(x, w, b):\n",
    "    \"\"\"\n",
    "    Computes the forward pass for an affine (fully-connected) layer.\n",
    "\n",
    "    The input x has shape (N, d_1, ..., d_k) and contains a minibatch of N\n",
    "    examples, where each example x[i] has shape (d_1, ..., d_k). We will\n",
    "    reshape each input into a vector of dimension D = d_1 * ... * d_k, and\n",
    "    then transform it to an output vector of dimension M.\n",
    "\n",
    "    Inputs:\n",
    "    - x: A numpy array containing input data, of shape (N, d_1, ..., d_k)\n",
    "    - w: A numpy array of weights, of shape (D, M)\n",
    "    - b: A numpy array of biases, of shape (M,)\n",
    "\n",
    "    Returns a tuple of:\n",
    "    - out: output, of shape (N, M)\n",
    "    - cache: (x, w, b)\n",
    "    \"\"\"\n",
    "    out = None\n",
    "    ###########################################################################\n",
    "    # TODO: Implement the affine forward pass. Store the result in out. You   #\n",
    "    # will need to reshape the input into rows.                               #\n",
    "    ###########################################################################\n",
    "    N = x.shape[0] #the number of rows\n",
    "    D = np.prod(x.shape[1:]) #D = d_1 * ... * d_k\n",
    "    x_ND = np.reshape(x,(N,D))\n",
    "    out = np.dot(x_ND,w) + b\n",
    "    ###########################################################################\n",
    "    #                             END OF YOUR CODE                            #\n",
    "    ###########################################################################\n",
    "    cache = (x, w, b)\n",
    "    return out, cache\n",
    "\n",
    "\n",
    "def affine_backward(dout, cache):\n",
    "    \"\"\"\n",
    "    Computes the backward pass for an affine layer.\n",
    "\n",
    "    Inputs:\n",
    "    - dout: Upstream derivative, of shape (N, M)\n",
    "    - cache: Tuple of:\n",
    "      - x: Input data, of shape (N, d_1, ... d_k)\n",
    "      - w: Weights, of shape (D, M)\n",
    "\n",
    "    Returns a tuple of:\n",
    "    - dx: Gradient with respect to x, of shape (N, d1, ..., d_k)\n",
    "    - dw: Gradient with respect to w, of shape (D, M)\n",
    "    - db: Gradient with respect to b, of shape (M,)\n",
    "    \"\"\"\n",
    "    x, w, b = cache\n",
    "    dx, dw, db = None, None, None\n",
    "    \n",
    "    N = x.shape[0]\n",
    "    D = np.prod(x.shape[1:])\n",
    "    x_ND = np.reshape(x, (N, D))\n",
    "\n",
    "    dx_ND = np.dot(dout, w.T)\n",
    "    dx = dx_ND.reshape(x.shape)    \n",
    "    ###########################################################################\n",
    "    # TODO: Implement the affine backward pass. Calculate dw and db.          #\n",
    "    # About two lines of code.                                                #\n",
    "    ###########################################################################\n",
    "\n",
    "    dw = np.dot(x.reshape(N,D).T, dout)\n",
    "    db = np.sum(dout, axis=0)\n",
    "\n",
    "    ###########################################################################\n",
    "    #                             END OF YOUR CODE                            #\n",
    "    ###########################################################################\n",
    "    return dx, dw, db\n",
    "\n",
    "\n",
    "def relu_forward(x):\n",
    "    \"\"\"\n",
    "    Computes the forward pass for a layer of rectified linear units (ReLUs).\n",
    "\n",
    "    Input:\n",
    "    - x: Inputs, of any shape\n",
    "\n",
    "    Returns a tuple of:\n",
    "    - out: Output, of the same shape as x\n",
    "    - cache: x\n",
    "    \"\"\"\n",
    "    out = None\n",
    "    ###########################################################################\n",
    "    # TODO: Implement the ReLU forward pass. About One line of code.          #\n",
    "    ###########################################################################\n",
    "    \n",
    "    out = np.maximum(0,x)\n",
    "    ###########################################################################\n",
    "    #                             END OF YOUR CODE                            #\n",
    "    ###########################################################################\n",
    "    cache = x\n",
    "    return out, cache\n",
    "\n",
    "\n",
    "def relu_backward(dout, cache):\n",
    "    \"\"\"\n",
    "    Computes the backward pass for a layer of rectified linear units (ReLUs).\n",
    "\n",
    "    Input:\n",
    "    - dout: Upstream derivatives, of any shape\n",
    "    - cache: Input x, of same shape as dout\n",
    "\n",
    "    Returns:\n",
    "    - dx: Gradient with respect to x\n",
    "    \"\"\"\n",
    "    dx, x = None, cache\n",
    "    ###########################################################################\n",
    "    # TODO: Implement the ReLU backward pass. About one line of code.         #\n",
    "    ###########################################################################\n",
    "    dx = np.array(dout, copy=True)\n",
    "    ###########################################################################\n",
    "    #                             END OF YOUR CODE                            #\n",
    "    ###########################################################################\n",
    "    return dx\n",
    "\n",
    "def affine_relu_forward(x, w, b):\n",
    "    \"\"\"\n",
    "    Convenience layer that perorms an affine transform followed by a ReLU\n",
    "\n",
    "    Inputs:\n",
    "    - x: Input to the affine layer\n",
    "    - w, b: Weights for the affine layer\n",
    "\n",
    "    Returns a tuple of:\n",
    "    - out: Output from the ReLU\n",
    "    - cache: Object to give to the backward pass\n",
    "    \"\"\"\n",
    "    a, fc_cache = affine_forward(x, w, b)\n",
    "    out, relu_cache = relu_forward(a)\n",
    "    cache = (fc_cache, relu_cache)\n",
    "    return out, cache\n",
    "\n",
    "\n",
    "def affine_relu_backward(dout, cache):\n",
    "    \"\"\"\n",
    "    Backward pass for the affine-relu convenience layer\n",
    "    \"\"\"\n",
    "    fc_cache, relu_cache = cache\n",
    "    da = relu_backward(dout, relu_cache)\n",
    "    dx, dw, db = affine_backward(da, fc_cache)\n",
    "    return dx, dw, db\n",
    "\n",
    "def softmax_loss(x, y):\n",
    "    \"\"\"\n",
    "    Computes the loss and gradient for softmax classification.\n",
    "\n",
    "    Inputs:\n",
    "    - x: Input data, of shape (N, C) where x[i, j] is the score for the jth\n",
    "      class for the ith input.\n",
    "    - y: Vector of labels, of shape (N,) where y[i] is the label for x[i] and\n",
    "      0 <= y[i] < C\n",
    "\n",
    "    Returns a tuple of:\n",
    "    - loss: Scalar giving the loss\n",
    "    - dx: Gradient of the loss with respect to x\n",
    "    \"\"\"\n",
    "    shifted_logits = x - np.max(x, axis=1, keepdims=True)\n",
    "    Z = np.sum(np.exp(shifted_logits), axis=1, keepdims=True)\n",
    "    log_probs = shifted_logits - np.log(Z)\n",
    "    probs = np.exp(log_probs)\n",
    "    N = x.shape[0]\n",
    "    loss = -np.sum(log_probs[np.arange(N), y]) / N\n",
    "    dx = probs.copy()\n",
    "    dx[np.arange(N), y] -= 1\n",
    "    dx /= N\n",
    "    return loss, dx\n"
   ]
  },
  {
   "cell_type": "markdown",
   "metadata": {},
   "source": [
    "# Two layer neural network model\n",
    "\n",
    "In this section, we will use above functions to assemble our two layer fully connected neural network model, and define model methods such as loss, train, and predict. Complete following unfinished functions."
   ]
  },
  {
   "cell_type": "code",
   "execution_count": 2,
   "metadata": {},
   "outputs": [],
   "source": [
    "class TwoLayerNet(object):\n",
    "    \"\"\"\n",
    "    A two-layer fully-connected neural network. The net has an input dimension of\n",
    "    N, a hidden layer dimension of H, and performs classification over C classes.\n",
    "    We train the network with a softmax loss function and L2 regularization on the\n",
    "    weight matrices. The network uses a ReLU nonlinearity after the first fully\n",
    "    connected layer.\n",
    "\n",
    "    In other words, the network has the following architecture:\n",
    "\n",
    "    input - fully connected layer - ReLU - fully connected layer - softmax\n",
    "\n",
    "    The outputs of the second fully-connected layer are the scores for each class.\n",
    "    \"\"\"\n",
    "\n",
    "    def __init__(self, input_size, hidden_size, output_size, std=1e-4):\n",
    "        \"\"\"\n",
    "        Initialize the model. Weights are initialized to small random values and\n",
    "        biases are initialized to zero. Weights and biases are stored in the\n",
    "        variable self.params, which is a dictionary with the following keys:\n",
    "\n",
    "        W1: First layer weights; has shape (D, H)\n",
    "        b1: First layer biases; has shape (H,)\n",
    "        W2: Second layer weights; has shape (H, C)\n",
    "        b2: Second layer biases; has shape (C,)\n",
    "\n",
    "        Inputs:\n",
    "        - input_size: The dimension D of the input data.\n",
    "        - hidden_size: The number of neurons H in the hidden layer.\n",
    "        - output_size: The number of classes C.\n",
    "        \"\"\"\n",
    "        self.params = {}\n",
    "        self.params['W1'] = std * np.random.randn(input_size, hidden_size)\n",
    "        self.params['b1'] = np.zeros(hidden_size)\n",
    "        self.params['W2'] = std * np.random.randn(hidden_size, output_size)\n",
    "        self.params['b2'] = np.zeros(output_size)\n",
    "\n",
    "    def loss(self, X, y=None, reg=0.0):\n",
    "        \"\"\"\n",
    "        Compute the loss and gradients for a two layer fully connected neural\n",
    "        network.\n",
    "\n",
    "        Inputs:\n",
    "        - X: Input data of shape (N, D). Each X[i] is a training sample.\n",
    "        - y: Vector of training labels. y[i] is the label for X[i], and each y[i] is\n",
    "          an integer in the range 0 <= y[i] < C. This parameter is optional; if it\n",
    "          is not passed then we only return scores, and if it is passed then we\n",
    "          instead return the loss and gradients.\n",
    "        - reg: Regularization strength.\n",
    "\n",
    "        Returns:\n",
    "        If y is None, return a matrix scores of shape (N, C) where scores[i, c] is\n",
    "        the score for class c on input X[i].\n",
    "\n",
    "        If y is not None, instead return a tuple of:\n",
    "        - loss: Loss (data loss and regularization loss) for this batch of training\n",
    "          samples.\n",
    "        - grads: Dictionary mapping parameter names to gradients of those parameters\n",
    "          with respect to the loss function; has the same keys as self.params.\n",
    "        \"\"\"\n",
    "        # Unpack variables from the params dictionary\n",
    "        W1, b1 = self.params['W1'], self.params['b1']\n",
    "        W2, b2 = self.params['W2'], self.params['b2']\n",
    "        N, D = X.shape\n",
    "\n",
    "        scores = None\n",
    "        #############################################################################\n",
    "        # TODO: Perform the forward pass, computing the class scores for the input. #\n",
    "        # Store the result in the scores variable, which should be an array of      #\n",
    "        # shape (N, C). About 4 lines of codes.                                     #\n",
    "        #############################################################################\n",
    "\n",
    "        layer1_out, cache1 = affine_forward(X, W1, b1)\n",
    "        layer1_out_relu, cache1_relu = affine_relu_forward(X, W1, b1)\n",
    "        layer2_out, cache2 = affine_forward(layer1_out_relu, W2, b2)\n",
    "        scores = layer2_out\n",
    "        #############################################################################\n",
    "        #                              END OF YOUR CODE                             #\n",
    "        #############################################################################\n",
    "\n",
    "        # If the targets are not given then jump out, we're done\n",
    "        if y is None:\n",
    "            return scores\n",
    "\n",
    "        # Compute the loss\n",
    "        loss = None\n",
    "\n",
    "        data_loss, dout = softmax_loss(scores, y)\n",
    "        reg_loss = 0.5 * reg * (np.sum(W2*W2) + np.sum(W1*W1))\n",
    "\n",
    "        loss = data_loss + reg_loss\n",
    "\n",
    "        # Backward pass: compute gradients\n",
    "        grads = {}\n",
    "\n",
    "        dlayer1_out_relu, dW2, db2 = affine_backward(dout, cache2)\n",
    "        dlayer1_out = relu_backward(dlayer1_out_relu, cache1_relu)\n",
    "        dx, dW1, db1 = affine_backward(dlayer1_out, cache1)\n",
    "\n",
    "        grads['b1'] = db1\n",
    "        grads['W1'] = dW1 + 1 * reg * W1\n",
    "        grads['b2'] = db2\n",
    "        grads['W2'] = dW2 + 1 * reg * W2\n",
    "\n",
    "        return loss, grads\n",
    "\n",
    "    def train(self, X, y, X_val, y_val,\n",
    "              learning_rate=1e-3, learning_rate_decay=0.95,\n",
    "              reg=5e-6, num_iters=100,\n",
    "              batch_size=200, verbose=False):\n",
    "        \"\"\"\n",
    "        Train this neural network using stochastic gradient descent.\n",
    "\n",
    "        Inputs:\n",
    "        - X: A numpy array of shape (N, D) giving training data.\n",
    "        - y: A numpy array f shape (N,) giving training labels; y[i] = c means that\n",
    "          X[i] has label c, where 0 <= c < C.\n",
    "        - X_val: A numpy array of shape (N_val, D) giving validation data.\n",
    "        - y_val: A numpy array of shape (N_val,) giving validation labels.\n",
    "        - learning_rate: Scalar giving learning rate for optimization.\n",
    "        - learning_rate_decay: Scalar giving factor used to decay the learning rate\n",
    "          after each epoch.\n",
    "        - reg: Scalar giving regularization strength.\n",
    "        - num_iters: Number of steps to take when optimizing.\n",
    "        - batch_size: Number of training examples to use per step.\n",
    "        - verbose: boolean; if true print progress during optimization.\n",
    "        \"\"\"\n",
    "        num_train = X.shape[0]\n",
    "        iterations_per_epoch = max(num_train / batch_size, 1)\n",
    "\n",
    "        # Use SGD to optimize the parameters in self.model\n",
    "        loss_history = []\n",
    "        train_acc_history = []\n",
    "        val_acc_history = []\n",
    "\n",
    "        for it in range(num_iters):\n",
    "            X_batch = None\n",
    "            y_batch = None\n",
    "\n",
    "            #########################################################################\n",
    "            # TODO: Create a random minibatch of training data and labels, storing  #\n",
    "            # them in X_batch and y_batch respectively.                             #\n",
    "            #########################################################################\n",
    "            \n",
    "            indices = np.random.choice(num_train, batch_size, replace=True)\n",
    "            X_batch = X[indices,:]\n",
    "            y_batch = y[indices]\n",
    "            \n",
    "            #########################################################################\n",
    "            #                             END OF YOUR CODE                          #\n",
    "            #########################################################################\n",
    "\n",
    "            # Compute loss and gradients using the current minibatch\n",
    "            loss, grads = self.loss(X_batch, y=y_batch, reg=reg)\n",
    "            loss_history.append(loss)\n",
    "\n",
    "            #########################################################################\n",
    "            # TODO: Use the gradients in the grads dictionary to update the         #\n",
    "            # parameters of the network (stored in the dictionary self.params)      #\n",
    "            # using stochastic gradient descent. You'll need to use the gradients   #\n",
    "            # stored in the grads dictionary defined above. About 4 lines of codes. #\n",
    "            #########################################################################\n",
    "            \n",
    "            self.params['W1'] -= learning_rate*grads['W1']\n",
    "            self.params['W2'] -= learning_rate*grads['W2']\n",
    "            self.params['b1'] -= learning_rate*grads['b1']\n",
    "            self.params['b2'] -= learning_rate*grads['b2']\n",
    "            \n",
    "            #########################################################################\n",
    "            #                             END OF YOUR CODE                          #\n",
    "            #########################################################################\n",
    "\n",
    "            if verbose and it % 100 == 0:\n",
    "                print('iteration %d / %d: loss %f val_acc %f' % (it,\n",
    "                    num_iters, loss, (self.predict(X_val) == y_val).mean()))\n",
    "\n",
    "            # Every epoch, check train and val accuracy and decay learning rate.\n",
    "            if it % iterations_per_epoch == 0:\n",
    "                # Check accuracy\n",
    "                train_acc = (self.predict(X_batch) == y_batch).mean()\n",
    "                val_acc = (self.predict(X_val) == y_val).mean()\n",
    "                train_acc_history.append(train_acc)\n",
    "                val_acc_history.append(val_acc)\n",
    "\n",
    "                # Decay learning rate\n",
    "                learning_rate *= learning_rate_decay\n",
    "\n",
    "        return {\n",
    "            'loss_history': loss_history,\n",
    "            'train_acc_history': train_acc_history,\n",
    "            'val_acc_history': val_acc_history,\n",
    "        }\n",
    "\n",
    "    def predict(self, X):\n",
    "        \"\"\"\n",
    "        Use the trained weights of this two-layer network to predict labels for\n",
    "        data points. For each data point we predict scores for each of the C\n",
    "        classes, and assign each data point to the class with the highest score.\n",
    "\n",
    "        Inputs:\n",
    "        - X: A numpy array of shape (N, D) giving N D-dimensional data points to\n",
    "          classify.\n",
    "\n",
    "        Returns:\n",
    "        - y_pred: A numpy array of shape (N,) giving predicted labels for each of\n",
    "          the elements of X. For all i, y_pred[i] = c means that X[i] is predicted\n",
    "          to have class c, where 0 <= c < C.\n",
    "        \"\"\"\n",
    "        y_pred = None\n",
    "\n",
    "        W1, b1 = self.params['W1'], self.params['b1']\n",
    "        W2, b2 = self.params['W2'], self.params['b2']\n",
    "        scores = None\n",
    "        #############################################################################\n",
    "        # TODO: Perform the forward pass, computing the class scores for the input. #\n",
    "        # Store the result in the scores variable, which should be an array of      #\n",
    "        # shape (N, C). About 4 lines of codes.                                     #\n",
    "        #############################################################################\n",
    "        \n",
    "        layer1_out, _ = affine_relu_forward(X, W1, b1)\n",
    "        layer2_out, _ = affine_relu_forward(X, W2, b2)\n",
    "        scores = layer2_out\n",
    "\n",
    "        y_pred = np.argmax(scores, axis=1)\n",
    "        \n",
    "        ###########################################################################\n",
    "        #                              END OF YOUR CODE                           #\n",
    "        ###########################################################################\n",
    "\n",
    "        return y_pred\n"
   ]
  },
  {
   "cell_type": "code",
   "execution_count": 3,
   "metadata": {
    "slideshow": {
     "slide_type": "subslide"
    }
   },
   "outputs": [
    {
     "ename": "ModuleNotFoundError",
     "evalue": "No module named 'keras'",
     "output_type": "error",
     "traceback": [
      "\u001b[0;31m---------------------------------------------------------------------------\u001b[0m",
      "\u001b[0;31mModuleNotFoundError\u001b[0m                       Traceback (most recent call last)",
      "\u001b[0;32m<ipython-input-3-1045a5d80144>\u001b[0m in \u001b[0;36m<module>\u001b[0;34m()\u001b[0m\n\u001b[0;32m----> 1\u001b[0;31m \u001b[0;32mfrom\u001b[0m \u001b[0mkeras\u001b[0m\u001b[0;34m.\u001b[0m\u001b[0mdatasets\u001b[0m \u001b[0;32mimport\u001b[0m \u001b[0mmnist\u001b[0m\u001b[0;34m\u001b[0m\u001b[0m\n\u001b[0m\u001b[1;32m      2\u001b[0m \u001b[0;32mfrom\u001b[0m \u001b[0m__future__\u001b[0m \u001b[0;32mimport\u001b[0m \u001b[0mprint_function\u001b[0m\u001b[0;34m\u001b[0m\u001b[0m\n\u001b[1;32m      3\u001b[0m \u001b[0;34m\u001b[0m\u001b[0m\n\u001b[1;32m      4\u001b[0m \u001b[0;32mimport\u001b[0m \u001b[0mmatplotlib\u001b[0m\u001b[0;34m.\u001b[0m\u001b[0mpyplot\u001b[0m \u001b[0;32mas\u001b[0m \u001b[0mplt\u001b[0m\u001b[0;34m\u001b[0m\u001b[0m\n\u001b[1;32m      5\u001b[0m \u001b[0;32mimport\u001b[0m \u001b[0mnumpy\u001b[0m \u001b[0;32mas\u001b[0m \u001b[0mnp\u001b[0m\u001b[0;34m\u001b[0m\u001b[0m\n",
      "\u001b[0;31mModuleNotFoundError\u001b[0m: No module named 'keras'"
     ]
    }
   ],
   "source": [
    "from keras.datasets import mnist\n",
    "from __future__ import print_function\n",
    "\n",
    "import matplotlib.pyplot as plt\n",
    "import numpy as np\n",
    "%matplotlib inline\n",
    "plt.rcParams['figure.figsize'] = (8.0, 6.0) # set default size of plots\n",
    "plt.rcParams['image.interpolation'] = 'nearest'\n",
    "plt.rcParams['image.cmap'] = 'gray'\n",
    "\n",
    "# Some more magic so that the notebook will reload external python modules;\n",
    "# see http://stackoverflow.com/questions/1907993/autoreload-of-modules-in-ipython\n",
    "%load_ext autoreload\n",
    "%autoreload 2"
   ]
  },
  {
   "cell_type": "markdown",
   "metadata": {
    "slideshow": {
     "slide_type": "subslide"
    }
   },
   "source": [
    "# Load the data\n",
    "\n",
    "From now on, you will see how the model you just built performs on MINIST handwritten digit dataset."
   ]
  },
  {
   "cell_type": "code",
   "execution_count": 4,
   "metadata": {},
   "outputs": [
    {
     "ename": "NameError",
     "evalue": "name 'mnist' is not defined",
     "output_type": "error",
     "traceback": [
      "\u001b[0;31m---------------------------------------------------------------------------\u001b[0m",
      "\u001b[0;31mNameError\u001b[0m                                 Traceback (most recent call last)",
      "\u001b[0;32m<ipython-input-4-5d83155269c5>\u001b[0m in \u001b[0;36m<module>\u001b[0;34m()\u001b[0m\n\u001b[0;32m----> 1\u001b[0;31m \u001b[0;34m(\u001b[0m\u001b[0mX_train\u001b[0m\u001b[0;34m,\u001b[0m \u001b[0my_train\u001b[0m\u001b[0;34m)\u001b[0m\u001b[0;34m,\u001b[0m \u001b[0;34m(\u001b[0m\u001b[0mX_test\u001b[0m\u001b[0;34m,\u001b[0m \u001b[0my_test\u001b[0m\u001b[0;34m)\u001b[0m \u001b[0;34m=\u001b[0m \u001b[0mmnist\u001b[0m\u001b[0;34m.\u001b[0m\u001b[0mload_data\u001b[0m\u001b[0;34m(\u001b[0m\u001b[0;34m)\u001b[0m\u001b[0;34m\u001b[0m\u001b[0m\n\u001b[0m",
      "\u001b[0;31mNameError\u001b[0m: name 'mnist' is not defined"
     ]
    }
   ],
   "source": [
    "(X_train, y_train), (X_test, y_test) = mnist.load_data()"
   ]
  },
  {
   "cell_type": "code",
   "execution_count": 19,
   "metadata": {
    "scrolled": false,
    "slideshow": {
     "slide_type": "subslide"
    }
   },
   "outputs": [
    {
     "name": "stdout",
     "output_type": "stream",
     "text": [
      "Loaded training images of shape: (60000, 28, 28)\n",
      "Loaded training labels of shape: (60000,)\n",
      "Loaded test images of shape (10000, 28, 28)\n",
      "Loaded test labels of shape (10000,)\n"
     ]
    }
   ],
   "source": [
    "print(\"Loaded training images of shape:\", X_train.shape)\n",
    "print(\"Loaded training labels of shape:\", y_train.shape)\n",
    "print(\"Loaded test images of shape\", X_test.shape)\n",
    "print(\"Loaded test labels of shape\", y_test.shape)"
   ]
  },
  {
   "cell_type": "markdown",
   "metadata": {
    "slideshow": {
     "slide_type": "subslide"
    }
   },
   "source": [
    "# Show some random images\n",
    "Show some random images to get a gut feeling of how the data looks like.\n",
    "Make sure `row * col` is less than the size of training set example number.\n",
    "To adjust the size of plot size, just modify: `plt.rcParams['figure.figsize']` on the first code block."
   ]
  },
  {
   "cell_type": "code",
   "execution_count": 5,
   "metadata": {
    "scrolled": true,
    "slideshow": {
     "slide_type": "subslide"
    }
   },
   "outputs": [
    {
     "ename": "NameError",
     "evalue": "name 'X_train' is not defined",
     "output_type": "error",
     "traceback": [
      "\u001b[0;31m---------------------------------------------------------------------------\u001b[0m",
      "\u001b[0;31mNameError\u001b[0m                                 Traceback (most recent call last)",
      "\u001b[0;32m<ipython-input-5-963ae9b6c81b>\u001b[0m in \u001b[0;36m<module>\u001b[0;34m()\u001b[0m\n\u001b[1;32m      1\u001b[0m \u001b[0mrow\u001b[0m\u001b[0;34m,\u001b[0m \u001b[0mcol\u001b[0m \u001b[0;34m=\u001b[0m \u001b[0;36m5\u001b[0m\u001b[0;34m,\u001b[0m \u001b[0;36m10\u001b[0m\u001b[0;34m\u001b[0m\u001b[0m\n\u001b[0;32m----> 2\u001b[0;31m \u001b[0midx\u001b[0m \u001b[0;34m=\u001b[0m \u001b[0mnp\u001b[0m\u001b[0;34m.\u001b[0m\u001b[0mrandom\u001b[0m\u001b[0;34m.\u001b[0m\u001b[0mchoice\u001b[0m\u001b[0;34m(\u001b[0m\u001b[0mX_train\u001b[0m\u001b[0;34m.\u001b[0m\u001b[0mshape\u001b[0m\u001b[0;34m[\u001b[0m\u001b[0;36m0\u001b[0m\u001b[0;34m]\u001b[0m\u001b[0;34m,\u001b[0m \u001b[0mrow\u001b[0m\u001b[0;34m*\u001b[0m\u001b[0mcol\u001b[0m\u001b[0;34m,\u001b[0m \u001b[0mreplace\u001b[0m\u001b[0;34m=\u001b[0m\u001b[0;32mFalse\u001b[0m\u001b[0;34m)\u001b[0m\u001b[0;34m\u001b[0m\u001b[0m\n\u001b[0m\u001b[1;32m      3\u001b[0m \u001b[0;32mfor\u001b[0m \u001b[0mi\u001b[0m \u001b[0;32min\u001b[0m \u001b[0mrange\u001b[0m\u001b[0;34m(\u001b[0m\u001b[0mrow\u001b[0m\u001b[0;34m)\u001b[0m\u001b[0;34m:\u001b[0m\u001b[0;34m\u001b[0m\u001b[0m\n\u001b[1;32m      4\u001b[0m     \u001b[0;32mfor\u001b[0m \u001b[0mj\u001b[0m \u001b[0;32min\u001b[0m \u001b[0mrange\u001b[0m\u001b[0;34m(\u001b[0m\u001b[0mcol\u001b[0m\u001b[0;34m)\u001b[0m\u001b[0;34m:\u001b[0m\u001b[0;34m\u001b[0m\u001b[0m\n\u001b[1;32m      5\u001b[0m         \u001b[0mplt_idx\u001b[0m \u001b[0;34m=\u001b[0m \u001b[0midx\u001b[0m\u001b[0;34m[\u001b[0m\u001b[0mi\u001b[0m\u001b[0;34m*\u001b[0m\u001b[0mcol\u001b[0m\u001b[0;34m+\u001b[0m\u001b[0mj\u001b[0m\u001b[0;34m]\u001b[0m\u001b[0;34m\u001b[0m\u001b[0m\n",
      "\u001b[0;31mNameError\u001b[0m: name 'X_train' is not defined"
     ]
    }
   ],
   "source": [
    "row, col = 5, 10\n",
    "idx = np.random.choice(X_train.shape[0], row*col, replace=False)\n",
    "for i in range(row):\n",
    "    for j in range(col):\n",
    "        plt_idx = idx[i*col+j]\n",
    "        plt.subplot(row, col, i*col+j+1)\n",
    "        plt.title(y_train[plt_idx])\n",
    "        plt.imshow(X_train[plt_idx,:,:])\n",
    "        plt.axis('off')\n",
    "\n",
    "plt.show()"
   ]
  },
  {
   "cell_type": "markdown",
   "metadata": {
    "slideshow": {
     "slide_type": "subslide"
    }
   },
   "source": [
    "# Preprocess the data\n",
    "## Preprocess Part.1\n",
    "In this part, we preprocess the data by:\n",
    "\n",
    "- Split training set data to train and validation.\n",
    "- Normalize the data"
   ]
  },
  {
   "cell_type": "code",
   "execution_count": 21,
   "metadata": {
    "slideshow": {
     "slide_type": "subslide"
    }
   },
   "outputs": [
    {
     "name": "stdout",
     "output_type": "stream",
     "text": [
      "Train data shape:  (50000, 28, 28)\n",
      "Train labels shape:  (50000,)\n",
      "Validation data shape:  (10000, 28, 28)\n",
      "Validation labels shape:  (10000,)\n",
      "Test data shape:  (10000, 28, 28)\n",
      "Test labels shape:  (10000,)\n"
     ]
    }
   ],
   "source": [
    "# Split the data into train, val, and test sets. \n",
    "num_training = 50000\n",
    "num_validation = 10000\n",
    "num_test = 10000\n",
    "\n",
    "# Our validation set will be num_validation points from the original\n",
    "# training set.\n",
    "mask = range(num_training, num_training + num_validation)\n",
    "X_val = X_train[mask]\n",
    "y_val = y_train[mask]\n",
    "\n",
    "# Our training set will be the first num_train points from the original\n",
    "# training set.\n",
    "mask = range(num_training)\n",
    "X_train = X_train[mask]\n",
    "y_train = y_train[mask]\n",
    "\n",
    "# We use the first num_test points of the original test set as our\n",
    "# test set.\n",
    "mask = range(num_test)\n",
    "X_test = X_test[mask]\n",
    "y_test = y_test[mask]\n",
    "\n",
    "# Normalize the data: subtract the mean image\n",
    "mean_image = np.mean(X_train, axis=0, dtype=X_train.dtype)\n",
    "X_train -= mean_image\n",
    "X_val -= mean_image\n",
    "X_test -= mean_image\n",
    "\n",
    "print('Train data shape: ', X_train.shape)\n",
    "print('Train labels shape: ', y_train.shape)\n",
    "print('Validation data shape: ', X_val.shape)\n",
    "print('Validation labels shape: ', y_val.shape)\n",
    "print('Test data shape: ', X_test.shape)\n",
    "print('Test labels shape: ', y_test.shape)"
   ]
  },
  {
   "cell_type": "markdown",
   "metadata": {
    "slideshow": {
     "slide_type": "subslide"
    }
   },
   "source": [
    "## Preprocess Part.2\n",
    "Reshape the 3 dimension data to a `[N * (row * col)]` 2 dimension matrix.\n",
    "`N` is the number of examples, `(row, col)` is the shape of an example image."
   ]
  },
  {
   "cell_type": "code",
   "execution_count": 22,
   "metadata": {
    "slideshow": {
     "slide_type": "subslide"
    }
   },
   "outputs": [
    {
     "name": "stdout",
     "output_type": "stream",
     "text": [
      "Training data shape:  (50000, 784)\n",
      "Validation data shape:  (10000, 784)\n",
      "Test data shape:  (10000, 784)\n"
     ]
    }
   ],
   "source": [
    "# Preprocessing: reshape the image data into rows\n",
    "X_train = np.reshape(X_train, (X_train.shape[0], -1))\n",
    "X_val = np.reshape(X_val, (X_val.shape[0], -1))\n",
    "X_test = np.reshape(X_test, (X_test.shape[0], -1))\n",
    "\n",
    "# As a sanity check, print out the shapes of the data\n",
    "print('Training data shape: ', X_train.shape)\n",
    "print('Validation data shape: ', X_val.shape)\n",
    "print('Test data shape: ', X_test.shape)"
   ]
  },
  {
   "cell_type": "markdown",
   "metadata": {},
   "source": [
    "# Overfit Small Dataset\n",
    "Training with a small dataset, i.e. a training set with 1000 example images, we should see an overfitting model."
   ]
  },
  {
   "cell_type": "code",
   "execution_count": 23,
   "metadata": {},
   "outputs": [
    {
     "name": "stdout",
     "output_type": "stream",
     "text": [
      "Training data shape:  (1000, 784)\n",
      "Validation data shape:  (10000, 784)\n",
      "Test data shape:  (10000, 784)\n"
     ]
    }
   ],
   "source": [
    "# Preprocessing: reshape the image data into rows\n",
    "X_train_small = X_train[:1000, :]\n",
    "y_train_small = y_train[:1000]\n",
    "# As a sanity check, print out the shapes of the data\n",
    "print('Training data shape: ', X_train_small.shape)\n",
    "print('Validation data shape: ', X_val.shape)\n",
    "print('Test data shape: ', X_test.shape)"
   ]
  },
  {
   "cell_type": "code",
   "execution_count": 27,
   "metadata": {
    "scrolled": false
   },
   "outputs": [
    {
     "name": "stdout",
     "output_type": "stream",
     "text": [
      "iteration 0 / 1000: loss 2.302685 val_acc 0.152800\n",
      "iteration 100 / 1000: loss 0.613273 val_acc 0.789800\n",
      "iteration 200 / 1000: loss 0.264332 val_acc 0.839000\n",
      "iteration 300 / 1000: loss 0.335980 val_acc 0.862600\n",
      "iteration 400 / 1000: loss 0.253564 val_acc 0.867700\n",
      "iteration 500 / 1000: loss 0.126698 val_acc 0.872800\n",
      "iteration 600 / 1000: loss 0.173782 val_acc 0.872600\n",
      "iteration 700 / 1000: loss 0.134153 val_acc 0.869900\n",
      "iteration 800 / 1000: loss 0.124028 val_acc 0.875600\n",
      "iteration 900 / 1000: loss 0.135791 val_acc 0.875400\n",
      "Validation accuracy:  0.8753\n",
      "Train accuracy:  1.0\n"
     ]
    }
   ],
   "source": [
    "input_size = 28 * 28\n",
    "hidden_size = 50\n",
    "num_classes = 10\n",
    "net = TwoLayerNet(input_size, hidden_size, num_classes)\n",
    "\n",
    "# Train the network\n",
    "stats = net.train(X_train_small, y_train_small, X_val, y_val,\n",
    "            num_iters=1000, batch_size=50,\n",
    "            learning_rate=1e-3, learning_rate_decay=0.99,\n",
    "            reg=0.5, verbose=True)\n",
    "\n",
    "# Predict on the validation set\n",
    "val_acc = (net.predict(X_val) == y_val).mean()\n",
    "train_acc = (net.predict(X_train_small) == y_train_small).mean()\n",
    "print('Validation accuracy: ', val_acc)\n",
    "print('Train accuracy: ', train_acc)"
   ]
  },
  {
   "cell_type": "code",
   "execution_count": 28,
   "metadata": {
    "scrolled": true
   },
   "outputs": [
    {
     "data": {
      "image/png": "[encoded data removed]",
      "text/plain": [
       "<Figure size 1440x720 with 2 Axes>"
      ]
     },
     "metadata": {},
     "output_type": "display_data"
    }
   ],
   "source": [
    "# Plot the loss function and train / validation accuracies\n",
    "plt.rcParams['figure.figsize'] = (20.0, 10.0) # set default size of plots\n",
    "plt.rcParams['image.interpolation'] = 'none'\n",
    "\n",
    "plt.subplot(2, 1, 1)\n",
    "plt.plot(stats['loss_history'])\n",
    "plt.title('Loss history')\n",
    "plt.xlabel('Iteration')\n",
    "plt.ylabel('Loss')\n",
    "\n",
    "plt.subplot(2, 1, 2)\n",
    "plt.plot(stats['train_acc_history'], 'r', label='train')\n",
    "plt.plot(stats['val_acc_history'], 'b', label='val')\n",
    "plt.title('Classification accuracy history')\n",
    "plt.xlabel('Epoch')\n",
    "plt.ylabel('Clasification accuracy')\n",
    "plt.legend()\n",
    "plt.show()"
   ]
  },
  {
   "cell_type": "markdown",
   "metadata": {
    "slideshow": {
     "slide_type": "slide"
    }
   },
   "source": [
    "# Training\n",
    "Train a two layer neural network, update gradients with mini-batch data, optimize the loss with SGD.\n"
   ]
  },
  {
   "cell_type": "code",
   "execution_count": 29,
   "metadata": {
    "scrolled": true,
    "slideshow": {
     "slide_type": "slide"
    }
   },
   "outputs": [
    {
     "name": "stdout",
     "output_type": "stream",
     "text": [
      "iteration 0 / 10000: loss 2.302719 val_acc 0.177200\n",
      "iteration 100 / 10000: loss 0.533684 val_acc 0.853200\n",
      "iteration 200 / 10000: loss 0.434884 val_acc 0.903300\n",
      "iteration 300 / 10000: loss 0.426916 val_acc 0.915500\n",
      "iteration 400 / 10000: loss 0.329449 val_acc 0.923200\n",
      "iteration 500 / 10000: loss 0.280096 val_acc 0.930100\n",
      "iteration 600 / 10000: loss 0.364125 val_acc 0.934200\n",
      "iteration 700 / 10000: loss 0.230049 val_acc 0.944400\n",
      "iteration 800 / 10000: loss 0.236645 val_acc 0.943900\n",
      "iteration 900 / 10000: loss 0.342598 val_acc 0.949800\n",
      "iteration 1000 / 10000: loss 0.243022 val_acc 0.950500\n",
      "iteration 1100 / 10000: loss 0.197612 val_acc 0.955100\n",
      "iteration 1200 / 10000: loss 0.194853 val_acc 0.956800\n",
      "iteration 1300 / 10000: loss 0.203275 val_acc 0.953800\n",
      "iteration 1400 / 10000: loss 0.199616 val_acc 0.959200\n",
      "iteration 1500 / 10000: loss 0.204042 val_acc 0.960100\n",
      "iteration 1600 / 10000: loss 0.220454 val_acc 0.961300\n",
      "iteration 1700 / 10000: loss 0.155319 val_acc 0.961400\n",
      "iteration 1800 / 10000: loss 0.165589 val_acc 0.963400\n",
      "iteration 1900 / 10000: loss 0.136104 val_acc 0.964800\n",
      "iteration 2000 / 10000: loss 0.171988 val_acc 0.964200\n",
      "iteration 2100 / 10000: loss 0.191535 val_acc 0.964200\n",
      "iteration 2200 / 10000: loss 0.105715 val_acc 0.966600\n",
      "iteration 2300 / 10000: loss 0.157572 val_acc 0.966600\n",
      "iteration 2400 / 10000: loss 0.126533 val_acc 0.968800\n",
      "iteration 2500 / 10000: loss 0.214473 val_acc 0.969700\n",
      "iteration 2600 / 10000: loss 0.196497 val_acc 0.968000\n",
      "iteration 2700 / 10000: loss 0.144251 val_acc 0.969000\n",
      "iteration 2800 / 10000: loss 0.197445 val_acc 0.971300\n",
      "iteration 2900 / 10000: loss 0.139035 val_acc 0.971200\n",
      "iteration 3000 / 10000: loss 0.136912 val_acc 0.971300\n",
      "iteration 3100 / 10000: loss 0.147913 val_acc 0.971700\n",
      "iteration 3200 / 10000: loss 0.160672 val_acc 0.972100\n",
      "iteration 3300 / 10000: loss 0.197933 val_acc 0.970900\n",
      "iteration 3400 / 10000: loss 0.132309 val_acc 0.971700\n",
      "iteration 3500 / 10000: loss 0.171102 val_acc 0.973300\n",
      "iteration 3600 / 10000: loss 0.142207 val_acc 0.970200\n",
      "iteration 3700 / 10000: loss 0.143968 val_acc 0.972800\n",
      "iteration 3800 / 10000: loss 0.110243 val_acc 0.972600\n",
      "iteration 3900 / 10000: loss 0.146029 val_acc 0.973100\n",
      "iteration 4000 / 10000: loss 0.150605 val_acc 0.973500\n",
      "iteration 4100 / 10000: loss 0.132614 val_acc 0.972900\n",
      "iteration 4200 / 10000: loss 0.136608 val_acc 0.972700\n",
      "iteration 4300 / 10000: loss 0.163693 val_acc 0.974300\n",
      "iteration 4400 / 10000: loss 0.140017 val_acc 0.974200\n",
      "iteration 4500 / 10000: loss 0.121542 val_acc 0.974600\n",
      "iteration 4600 / 10000: loss 0.155492 val_acc 0.972800\n",
      "iteration 4700 / 10000: loss 0.135610 val_acc 0.974200\n",
      "iteration 4800 / 10000: loss 0.144333 val_acc 0.973400\n",
      "iteration 4900 / 10000: loss 0.115592 val_acc 0.974800\n",
      "iteration 5000 / 10000: loss 0.185787 val_acc 0.973100\n",
      "iteration 5100 / 10000: loss 0.130683 val_acc 0.973600\n",
      "iteration 5200 / 10000: loss 0.142447 val_acc 0.975000\n",
      "iteration 5300 / 10000: loss 0.144028 val_acc 0.974600\n",
      "iteration 5400 / 10000: loss 0.146262 val_acc 0.974400\n",
      "iteration 5500 / 10000: loss 0.149073 val_acc 0.974800\n",
      "iteration 5600 / 10000: loss 0.138471 val_acc 0.976000\n",
      "iteration 5700 / 10000: loss 0.119887 val_acc 0.975000\n",
      "iteration 5800 / 10000: loss 0.137560 val_acc 0.975900\n",
      "iteration 5900 / 10000: loss 0.125048 val_acc 0.975700\n",
      "iteration 6000 / 10000: loss 0.131658 val_acc 0.975600\n",
      "iteration 6100 / 10000: loss 0.116091 val_acc 0.975800\n",
      "iteration 6200 / 10000: loss 0.143486 val_acc 0.976000\n",
      "iteration 6300 / 10000: loss 0.114278 val_acc 0.976300\n",
      "iteration 6400 / 10000: loss 0.178906 val_acc 0.975800\n",
      "iteration 6500 / 10000: loss 0.155745 val_acc 0.976300\n",
      "iteration 6600 / 10000: loss 0.117829 val_acc 0.975600\n",
      "iteration 6700 / 10000: loss 0.135782 val_acc 0.974800\n",
      "iteration 6800 / 10000: loss 0.122516 val_acc 0.976200\n",
      "iteration 6900 / 10000: loss 0.118114 val_acc 0.976500\n",
      "iteration 7000 / 10000: loss 0.158092 val_acc 0.976700\n",
      "iteration 7100 / 10000: loss 0.111261 val_acc 0.976000\n",
      "iteration 7200 / 10000: loss 0.135220 val_acc 0.975300\n",
      "iteration 7300 / 10000: loss 0.143181 val_acc 0.975500\n",
      "iteration 7400 / 10000: loss 0.126919 val_acc 0.976000\n",
      "iteration 7500 / 10000: loss 0.153724 val_acc 0.976500\n",
      "iteration 7600 / 10000: loss 0.142910 val_acc 0.976400\n",
      "iteration 7700 / 10000: loss 0.145408 val_acc 0.976000\n",
      "iteration 7800 / 10000: loss 0.171962 val_acc 0.976400\n",
      "iteration 7900 / 10000: loss 0.138958 val_acc 0.976700\n",
      "iteration 8000 / 10000: loss 0.132925 val_acc 0.975700\n",
      "iteration 8100 / 10000: loss 0.151823 val_acc 0.976100\n",
      "iteration 8200 / 10000: loss 0.137548 val_acc 0.976300\n",
      "iteration 8300 / 10000: loss 0.114512 val_acc 0.977100\n",
      "iteration 8400 / 10000: loss 0.128543 val_acc 0.976700\n",
      "iteration 8500 / 10000: loss 0.133159 val_acc 0.975800\n",
      "iteration 8600 / 10000: loss 0.118869 val_acc 0.977200\n",
      "iteration 8700 / 10000: loss 0.148800 val_acc 0.977200\n",
      "iteration 8800 / 10000: loss 0.122814 val_acc 0.976300\n",
      "iteration 8900 / 10000: loss 0.115378 val_acc 0.976200\n",
      "iteration 9000 / 10000: loss 0.132593 val_acc 0.976200\n",
      "iteration 9100 / 10000: loss 0.132601 val_acc 0.976200\n",
      "iteration 9200 / 10000: loss 0.133463 val_acc 0.977000\n",
      "iteration 9300 / 10000: loss 0.147167 val_acc 0.977100\n",
      "iteration 9400 / 10000: loss 0.128048 val_acc 0.977100\n",
      "iteration 9500 / 10000: loss 0.124990 val_acc 0.976500\n",
      "iteration 9600 / 10000: loss 0.123781 val_acc 0.976000\n",
      "iteration 9700 / 10000: loss 0.110632 val_acc 0.977200\n",
      "iteration 9800 / 10000: loss 0.122848 val_acc 0.976800\n",
      "iteration 9900 / 10000: loss 0.144337 val_acc 0.977100\n",
      "Validation accuracy:  0.9758\n",
      "Train accuracy:  0.9875\n"
     ]
    }
   ],
   "source": [
    "input_size = 28 * 28\n",
    "hidden_size = 200\n",
    "num_classes = 10\n",
    "net = TwoLayerNet(input_size, hidden_size, num_classes)\n",
    "\n",
    "# Train the network\n",
    "stats = net.train(X_train, y_train, X_val, y_val,\n",
    "            num_iters=10000, batch_size=200,\n",
    "            learning_rate=1e-3, learning_rate_decay=0.99,\n",
    "            reg=0.2, verbose=True)\n",
    "\n",
    "# Predict on the validation set\n",
    "val_acc = (net.predict(X_val) == y_val).mean()\n",
    "train_acc = (net.predict(X_train) == y_train).mean()\n",
    "print('Validation accuracy: ', val_acc)\n",
    "print('Train accuracy: ', train_acc)"
   ]
  },
  {
   "cell_type": "markdown",
   "metadata": {
    "slideshow": {
     "slide_type": "slide"
    }
   },
   "source": [
    "# Debug the training\n",
    "The loss history indicates whether loss is converging.\n",
    "Overfitting or underfitting can be observed from classification accuracy history.\n",
    "If there is a big gap between training accuracy and validation accuracy curves, the model is highly possible overfitting. Else if the training accuracy is low, and validation accuracy alike, the model might be underfitting.\n",
    "To avoid such occasions, fine tune the parameters with your observation on the plots."
   ]
  },
  {
   "cell_type": "code",
   "execution_count": 6,
   "metadata": {
    "scrolled": true,
    "slideshow": {
     "slide_type": "slide"
    }
   },
   "outputs": [
    {
     "ename": "NameError",
     "evalue": "name 'plt' is not defined",
     "output_type": "error",
     "traceback": [
      "\u001b[0;31m---------------------------------------------------------------------------\u001b[0m",
      "\u001b[0;31mNameError\u001b[0m                                 Traceback (most recent call last)",
      "\u001b[0;32m<ipython-input-6-7d91541584f5>\u001b[0m in \u001b[0;36m<module>\u001b[0;34m()\u001b[0m\n\u001b[1;32m      1\u001b[0m \u001b[0;31m# Plot the loss function and train / validation accuracies\u001b[0m\u001b[0;34m\u001b[0m\u001b[0;34m\u001b[0m\u001b[0m\n\u001b[0;32m----> 2\u001b[0;31m \u001b[0mplt\u001b[0m\u001b[0;34m.\u001b[0m\u001b[0mrcParams\u001b[0m\u001b[0;34m[\u001b[0m\u001b[0;34m'figure.figsize'\u001b[0m\u001b[0;34m]\u001b[0m \u001b[0;34m=\u001b[0m \u001b[0;34m(\u001b[0m\u001b[0;36m20.0\u001b[0m\u001b[0;34m,\u001b[0m \u001b[0;36m10.0\u001b[0m\u001b[0;34m)\u001b[0m \u001b[0;31m# set default size of plots\u001b[0m\u001b[0;34m\u001b[0m\u001b[0m\n\u001b[0m\u001b[1;32m      3\u001b[0m \u001b[0mplt\u001b[0m\u001b[0;34m.\u001b[0m\u001b[0mrcParams\u001b[0m\u001b[0;34m[\u001b[0m\u001b[0;34m'image.interpolation'\u001b[0m\u001b[0;34m]\u001b[0m \u001b[0;34m=\u001b[0m \u001b[0;34m'none'\u001b[0m\u001b[0;34m\u001b[0m\u001b[0m\n\u001b[1;32m      4\u001b[0m \u001b[0;34m\u001b[0m\u001b[0m\n\u001b[1;32m      5\u001b[0m \u001b[0mplt\u001b[0m\u001b[0;34m.\u001b[0m\u001b[0msubplot\u001b[0m\u001b[0;34m(\u001b[0m\u001b[0;36m2\u001b[0m\u001b[0;34m,\u001b[0m \u001b[0;36m1\u001b[0m\u001b[0;34m,\u001b[0m \u001b[0;36m1\u001b[0m\u001b[0;34m)\u001b[0m\u001b[0;34m\u001b[0m\u001b[0m\n",
      "\u001b[0;31mNameError\u001b[0m: name 'plt' is not defined"
     ]
    }
   ],
   "source": [
    "# Plot the loss function and train / validation accuracies\n",
    "plt.rcParams['figure.figsize'] = (20.0, 10.0) # set default size of plots\n",
    "plt.rcParams['image.interpolation'] = 'none'\n",
    "\n",
    "plt.subplot(2, 1, 1)\n",
    "plt.plot(stats['loss_history'])\n",
    "plt.title('Loss history')\n",
    "plt.xlabel('Iteration')\n",
    "plt.ylabel('Loss')\n",
    "\n",
    "plt.subplot(2, 1, 2)\n",
    "plt.plot(stats['train_acc_history'], label='train')\n",
    "plt.plot(stats['val_acc_history'], label='val')\n",
    "plt.title('Classification accuracy history')\n",
    "plt.xlabel('Epoch')\n",
    "plt.ylabel('Clasification accuracy')\n",
    "plt.legend()\n",
    "plt.show()"
   ]
  },
  {
   "cell_type": "markdown",
   "metadata": {
    "slideshow": {
     "slide_type": "slide"
    }
   },
   "source": [
    "# Performance of the model\n",
    "Now it's time to finally evaluate our model, with test set data."
   ]
  },
  {
   "cell_type": "code",
   "execution_count": 31,
   "metadata": {
    "slideshow": {
     "slide_type": "slide"
    }
   },
   "outputs": [
    {
     "name": "stdout",
     "output_type": "stream",
     "text": [
      "Test accuracy:  0.9771\n"
     ]
    }
   ],
   "source": [
    "test_acc = (net.predict(X_test) == y_test).mean()\n",
    "print('Test accuracy: ', test_acc)"
   ]
  },
  {
   "cell_type": "markdown",
   "metadata": {
    "slideshow": {
     "slide_type": "slide"
    }
   },
   "source": [
    "# Show some random image and predict using our model"
   ]
  },
  {
   "cell_type": "code",
   "execution_count": 7,
   "metadata": {
    "scrolled": true,
    "slideshow": {
     "slide_type": "slide"
    }
   },
   "outputs": [
    {
     "ename": "NameError",
     "evalue": "name 'plt' is not defined",
     "output_type": "error",
     "traceback": [
      "\u001b[0;31m---------------------------------------------------------------------------\u001b[0m",
      "\u001b[0;31mNameError\u001b[0m                                 Traceback (most recent call last)",
      "\u001b[0;32m<ipython-input-7-1c276ccc1935>\u001b[0m in \u001b[0;36m<module>\u001b[0;34m()\u001b[0m\n\u001b[0;32m----> 1\u001b[0;31m \u001b[0mplt\u001b[0m\u001b[0;34m.\u001b[0m\u001b[0mrcParams\u001b[0m\u001b[0;34m[\u001b[0m\u001b[0;34m'figure.figsize'\u001b[0m\u001b[0;34m]\u001b[0m \u001b[0;34m=\u001b[0m \u001b[0;34m(\u001b[0m\u001b[0;36m8.0\u001b[0m\u001b[0;34m,\u001b[0m \u001b[0;36m6.0\u001b[0m\u001b[0;34m)\u001b[0m \u001b[0;31m# set default size of plots\u001b[0m\u001b[0;34m\u001b[0m\u001b[0m\n\u001b[0m\u001b[1;32m      2\u001b[0m \u001b[0mplt\u001b[0m\u001b[0;34m.\u001b[0m\u001b[0mrcParams\u001b[0m\u001b[0;34m[\u001b[0m\u001b[0;34m'image.interpolation'\u001b[0m\u001b[0;34m]\u001b[0m \u001b[0;34m=\u001b[0m \u001b[0;34m'nearest'\u001b[0m\u001b[0;34m\u001b[0m\u001b[0m\n\u001b[1;32m      3\u001b[0m \u001b[0;34m\u001b[0m\u001b[0m\n\u001b[1;32m      4\u001b[0m \u001b[0mrow\u001b[0m\u001b[0;34m,\u001b[0m \u001b[0mcol\u001b[0m \u001b[0;34m=\u001b[0m \u001b[0;36m5\u001b[0m\u001b[0;34m,\u001b[0m \u001b[0;36m8\u001b[0m\u001b[0;34m\u001b[0m\u001b[0m\n\u001b[1;32m      5\u001b[0m \u001b[0my_test_pred\u001b[0m \u001b[0;34m=\u001b[0m \u001b[0mnet\u001b[0m\u001b[0;34m.\u001b[0m\u001b[0mpredict\u001b[0m\u001b[0;34m(\u001b[0m\u001b[0mX_test\u001b[0m\u001b[0;34m)\u001b[0m\u001b[0;34m\u001b[0m\u001b[0m\n",
      "\u001b[0;31mNameError\u001b[0m: name 'plt' is not defined"
     ]
    }
   ],
   "source": [
    "plt.rcParams['figure.figsize'] = (8.0, 6.0) # set default size of plots\n",
    "plt.rcParams['image.interpolation'] = 'nearest'\n",
    "\n",
    "row, col = 5, 8\n",
    "y_test_pred = net.predict(X_test)\n",
    "X_test_image = X_test.reshape(-1, 28, 28)\n",
    "idx = np.random.choice(X_test.shape[0], row*col, replace=False)\n",
    "for i in range(row):\n",
    "    for j in range(col):\n",
    "        plt_idx = idx[i*col+j]\n",
    "        plt.subplot(row, col, i*col+j+1)\n",
    "        plt.title('pred: ' + str(y_test_pred[plt_idx]))\n",
    "        plt.imshow(X_test_image[plt_idx,:,:])\n",
    "        plt.axis('off')\n",
    "\n",
    "plt.show()"
   ]
  },
  {
   "cell_type": "markdown",
   "metadata": {},
   "source": [
    "# Conclusion\n",
    "Congratulations! You have successfully finished this project! The 2-layer plain neural network should accquire an accuracy of ~97.75%. "
   ]
  },
  {
   "cell_type": "code",
   "execution_count": null,
   "metadata": {
    "collapsed": true
   },
   "outputs": [],
   "source": []
  }
 ],
 "metadata": {
  "kernelspec": {
   "display_name": "Python 3",
   "language": "python",
   "name": "python3"
  },
  "language_info": {
   "codemirror_mode": {
    "name": "ipython",
    "version": 3
   },
   "file_extension": ".py",
   "mimetype": "text/x-python",
   "name": "python",
   "nbconvert_exporter": "python",
   "pygments_lexer": "ipython3",
   "version": "3.7.0"
  },
  "latex_metadata": {
   "affiliation": "Freie Universit\\\"at Berlin, Fachbereich Physik, 14195 Berlin, Germany",
   "author": "Julius C. F. Schulz",
   "title": "Amazing Article"
  }
 },
 "nbformat": 4,
 "nbformat_minor": 2
}
